{
 "cells": [
  {
   "cell_type": "code",
   "execution_count": 1,
   "metadata": {},
   "outputs": [],
   "source": [
    "import numpy as np\n",
    "import matplotlib.pyplot as plt\n",
    "import matplotlib.patches as patches\n",
    "from matplotlib.animation import FuncAnimation"
   ]
  },
  {
   "cell_type": "code",
   "execution_count": 10,
   "metadata": {},
   "outputs": [
    {
     "data": {
      "image/png": "[encoded data removed]",
      "text/plain": [
       "<Figure size 720x360 with 2 Axes>"
      ]
     },
     "metadata": {
      "needs_background": "light"
     },
     "output_type": "display_data"
    }
   ],
   "source": [
    "num_frames = 100\n",
    "\n",
    "fig, ax = plt.subplots(ncols=2, figsize=(10,5))  \n",
    "\n",
    "ax[0].axis('off')\n",
    "ax[0].set_xlim(-1.5, 1.5)\n",
    "ax[0].set_ylim(-1.5, 1.5)\n",
    "ax[0].set_aspect('equal', adjustable='box')\n",
    "ax[0].text(0, -1.2, r\"$\\vert 1 \\rangle$\", ha=\"center\", va=\"center\", fontsize=20)\n",
    "ax[0].text(0, 1.2, r\"$\\vert 0 \\rangle$\", ha=\"center\", va=\"center\", fontsize=20)\n",
    "ax[0].text(-1.23, 0, r\"$\\vert$$-$$\\rangle$\", ha=\"center\", va=\"center\", fontsize=20)\n",
    "ax[0].text(1.2, 0, r\"$\\vert$+$\\rangle$\", ha=\"center\", va=\"center\", fontsize=20)\n",
    "\n",
    "ax[1].set_xlim(-2, 2)\n",
    "ax[1].set_xticks([-1, 1])\n",
    "ax[1].set_xticklabels([r\"$\\vert 0 \\rangle$\", r\"$\\vert 1 \\rangle$\"], fontsize=20)\n",
    "ax[1].set_ylabel(\"Probability\", fontsize=14)\n",
    "\n",
    "dx = np.array([-np.sin(2*np.pi*t/num_frames) for t in range(num_frames)])\n",
    "dy = np.array([-np.cos(2*np.pi*t/num_frames) for t in range(num_frames)])\n",
    "\n",
    "p0 = np.array([np.sin(np.pi*t/num_frames)**2 for t in range(num_frames+1)])\n",
    "p1 = np.array([np.cos(np.pi*t/num_frames)**2 for t in range(num_frames+1)])\n",
    "\n",
    "data = np.column_stack([p0, p1])\n",
    "\n",
    "rects = ax[1].bar([-1,1], data[0], color='blue')\n",
    "circle = patches.Circle((0,0), radius=1, fill=False,  color='black', linewidth=1)\n",
    "arrow = patches.Arrow(0, 0, dx[0], dy[0], width=0.1, color='black')\n",
    "\n",
    "def init():\n",
    "    circle = patches.Circle(xy=(0,0), radius=1, fill=False, color='black', linewidth=1)\n",
    "    ax[0].add_patch(circle)\n",
    "    ax[0].add_patch(circle)\n",
    "    return circle\n",
    "\n",
    "\n",
    "def animate(t):\n",
    "    ax[0].patches.pop(-1)\n",
    "    arrow = patches.Arrow(0, 0, dx[t], dy[t], width=0.1, color='black')\n",
    "    ax[0].add_patch(arrow)\n",
    "    for rect, p in zip(rects, data[t]):\n",
    "        rect.set_height(p)\n",
    "    return arrow, rects\n",
    "\n",
    "\n",
    "anim = FuncAnimation(fig, animate, init_func=init, interval=100, repeat=True, blit=False)\n",
    "anim.save('animation1.gif', writer='imagemagick', fps=30)"
   ]
  },
  {
   "cell_type": "code",
   "execution_count": null,
   "metadata": {},
   "outputs": [],
   "source": []
  }
 ],
 "metadata": {
  "interpreter": {
   "hash": "2b1a3e9302bd0427c58e36642522a6b50cbc36246d574feb23989c498a6d70ba"
  },
  "kernelspec": {
   "display_name": "Python 3.8.5 ('base')",
   "language": "python",
   "name": "python3"
  },
  "language_info": {
   "codemirror_mode": {
    "name": "ipython",
    "version": 3
   },
   "file_extension": ".py",
   "mimetype": "text/x-python",
   "name": "python",
   "nbconvert_exporter": "python",
   "pygments_lexer": "ipython3",
   "version": "3.8.5"
  },
  "orig_nbformat": 4
 },
 "nbformat": 4,
 "nbformat_minor": 2
}
