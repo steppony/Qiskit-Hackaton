{
 "cells": [
  {
   "cell_type": "code",
   "execution_count": 9,
   "id": "4a4b8111",
   "metadata": {},
   "outputs": [
    {
     "name": "stderr",
     "output_type": "stream",
     "text": [
      "ibmqfactory.load_account:WARNING:2022-04-26 14:09:50,549: Credentials are already in use. The existing account in the session will be replaced.\n"
     ]
    }
   ],
   "source": [
    "import numpy as np\n",
    "# Importing standard Qiskit libraries\n",
    "from qiskit import QuantumCircuit, transpile, Aer, IBMQ, assemble, execute\n",
    "from qiskit.tools.jupyter import *\n",
    "from qiskit.visualization import *\n",
    "from ibm_quantum_widgets import *\n",
    "\n",
    "# Loading your IBM Quantum account(s)\n",
    "provider = IBMQ.load_account()"
   ]
  },
  {
   "cell_type": "markdown",
   "id": "a5429f2f",
   "metadata": {},
   "source": [
    "## Multiple Qubit Gates"
   ]
  },
  {
   "cell_type": "markdown",
   "id": "cc334364",
   "metadata": {},
   "source": [
    "Single qubits are interesting, but individually they offer no computational advantage. We will now look at how we represent multiple qubits, and how these qubits can interact with each other. We have seen how we can represent the state of a qubit using a 2D-vector, now we will see how we can represent the state of multiple qubits. \n",
    "\n",
    "In qiskit we have a range of multiple qubit case up for use:\n",
    "\n",
    "    qc.cx(c,t)  # controlled X gate (CNOT)\n",
    "    qc.cz(c,t)    # controlled Z-gate\n",
    "    qc.cy(c,t)    # Controlled Y-gate\n",
    "    qc.ch(c,t)    # Controlled Hadamard gate\n",
    "\n",
    "\n",
    "Each of these gates required two inputs: `c` which is the control qubit and `t`, being the target qubit. A controlled gates works in such a way that if the `c`-qubit is in state $|1\\rangle$ the controlled gate will be applied to the `t`-qubit. \n",
    "\n",
    "\n"
   ]
  },
  {
   "cell_type": "markdown",
   "id": "61e99ab5",
   "metadata": {},
   "source": [
    "## 1. Work with CNOT-gate"
   ]
  },
  {
   "cell_type": "markdown",
   "id": "6979a65e",
   "metadata": {},
   "source": [
    "<b> 1.) Apply the CNOT gate on the $|00\\rangle$ state. What is the outcome?"
   ]
  },
  {
   "cell_type": "code",
   "execution_count": 10,
   "id": "05df50cd",
   "metadata": {},
   "outputs": [
    {
     "data": {
      "image/png": "[encoded data removed]",
      "text/plain": [
       "<Figure size 146.652x204.68 with 1 Axes>"
      ]
     },
     "execution_count": 10,
     "metadata": {},
     "output_type": "execute_result"
    }
   ],
   "source": [
    "#Apply the CNOT gate to the 00 state\n",
    "#\n",
    "qc=QuantumCircuit(2,2)\n",
    "#\n",
    "# FILL YOUR CODE IN HERE\n",
    "qc.cx(0,1)\n",
    "#\n",
    "qc.draw()"
   ]
  },
  {
   "cell_type": "markdown",
   "id": "af9e9de3",
   "metadata": {},
   "source": [
    "<b> 2.) Apply the CNOT gate on the $|10\\rangle$ state. What is the outcome?"
   ]
  },
  {
   "cell_type": "code",
   "execution_count": 11,
   "id": "4287b554",
   "metadata": {},
   "outputs": [
    {
     "data": {
      "image/png": "[encoded data removed]",
      "text/plain": [
       "<Figure size 206.852x204.68 with 1 Axes>"
      ]
     },
     "execution_count": 11,
     "metadata": {},
     "output_type": "execute_result"
    }
   ],
   "source": [
    "#Apply the CNOT gate to the 00 state\n",
    "#\n",
    "qc=QuantumCircuit(2,2)\n",
    "#\n",
    "# FILL YOUR CODE IN HERE\n",
    "qc.x(0)\n",
    "qc.cx(0,1)\n",
    "#\n",
    "qc.draw()"
   ]
  },
  {
   "cell_type": "markdown",
   "id": "c262df8c",
   "metadata": {},
   "source": [
    "## 2. Work with controlled gates"
   ]
  },
  {
   "cell_type": "markdown",
   "id": "d7294e3b",
   "metadata": {},
   "source": [
    "1.) Make a Bell state $|\\psi\\rangle = \\frac{1}{\\sqrt{2}} (|00\\rangle + |11\\rangle)  $"
   ]
  },
  {
   "cell_type": "code",
   "execution_count": 12,
   "id": "4bc4ecae",
   "metadata": {},
   "outputs": [
    {
     "data": {
      "image/png": "[encoded data removed]",
      "text/plain": [
       "<Figure size 504x360 with 1 Axes>"
      ]
     },
     "execution_count": 12,
     "metadata": {},
     "output_type": "execute_result"
    }
   ],
   "source": [
    "#Apply the CNOT gate to the 00 state\n",
    "#\n",
    "qc=QuantumCircuit(2,2)\n",
    "#\n",
    "# FILL YOUR CODE IN HERE\n",
    "qc.h(0)\n",
    "qc.cx(0,1)\n",
    "#\n",
    "\n",
    "for i in range(2):\n",
    "    qc.measure(i,i)\n",
    "backend = Aer.get_backend('qasm_simulator') # we choose the simulator as our backend\n",
    "counts = execute(qc, backend, shots = 1024).result().get_counts() # we run the simulation and get the counts\n",
    "plot_histogram(counts) \n"
   ]
  },
  {
   "cell_type": "markdown",
   "id": "10df0abd",
   "metadata": {},
   "source": [
    "2.) Make a Bell state $|\\psi\\rangle = \\frac{1}{\\sqrt{2}} (|10\\rangle - |01\\rangle)  $"
   ]
  },
  {
   "cell_type": "code",
   "execution_count": 13,
   "id": "c178e971",
   "metadata": {},
   "outputs": [
    {
     "data": {
      "image/png": "[encoded data removed]",
      "text/plain": [
       "<Figure size 504x360 with 1 Axes>"
      ]
     },
     "execution_count": 13,
     "metadata": {},
     "output_type": "execute_result"
    }
   ],
   "source": [
    "#Apply the CNOT gate to the 00 state\n",
    "#\n",
    "qc=QuantumCircuit(2,2)\n",
    "#\n",
    "# FILL YOUR CODE IN HERE\n",
    "qc.h(0)\n",
    "qc.cx(0,1)\n",
    "qc.cz(0,1)\n",
    "qc.x(0)\n",
    "#\n",
    "\n",
    "for i in range(2):\n",
    "    qc.measure(i,i)\n",
    "\n",
    "\n",
    "backend = Aer.get_backend('qasm_simulator') # we choose the simulator as our backend\n",
    "counts = execute(qc, backend, shots = 1024).result().get_counts() # we run the simulation and get the counts\n",
    "plot_histogram(counts) "
   ]
  },
  {
   "cell_type": "code",
   "execution_count": null,
   "id": "169266b3",
   "metadata": {},
   "outputs": [],
   "source": []
  },
  {
   "cell_type": "code",
   "execution_count": null,
   "id": "0dbbff79-2639-42fc-84e9-3ebd934bd7dc",
   "metadata": {},
   "outputs": [],
   "source": []
  }
 ],
 "metadata": {
  "kernelspec": {
   "display_name": "Qiskit v0.35.0 (ipykernel)",
   "language": "python",
   "name": "python3"
  },
  "language_info": {
   "codemirror_mode": {
    "name": "ipython",
    "version": 3
   },
   "file_extension": ".py",
   "mimetype": "text/x-python",
   "name": "python",
   "nbconvert_exporter": "python",
   "pygments_lexer": "ipython3",
   "version": "3.8.13"
  },
  "widgets": {
   "application/vnd.jupyter.widget-state+json": {
    "state": {
     "0d60d9c0bf034bba9c9e5e0bb70d8a06": {
      "model_module": "@jupyter-widgets/base",
      "model_module_version": "1.2.0",
      "model_name": "LayoutModel",
      "state": {
       "margin": "0px 0px 0px 37px",
       "width": "600px"
      }
     },
     "190ff14048c749228157ccb000289824": {
      "model_module": "@jupyter-widgets/controls",
      "model_module_version": "1.5.0",
      "model_name": "ButtonModel",
      "state": {
       "button_style": "primary",
       "description": "Clear",
       "layout": "IPY_MODEL_45bf9b5baff0466ca315c3b893d649a1",
       "style": "IPY_MODEL_b653faae4f9b4f0c8ffa0fc770235494"
      }
     },
     "45bf9b5baff0466ca315c3b893d649a1": {
      "model_module": "@jupyter-widgets/base",
      "model_module_version": "1.2.0",
      "model_name": "LayoutModel",
      "state": {
       "grid_area": "right",
       "padding": "0px 0px 0px 0px",
       "width": "70px"
      }
     },
     "45df7877861744a490c16836e0107d60": {
      "model_module": "@jupyter-widgets/controls",
      "model_module_version": "1.5.0",
      "model_name": "HBoxModel",
      "state": {
       "children": [
        "IPY_MODEL_ddec49bdd9e04993a2f15c1415c4fb33",
        "IPY_MODEL_911b91b292654a6fa8a968387b13bb0f",
        "IPY_MODEL_6e0b3047a1e040c5986a923b4dba2469",
        "IPY_MODEL_7721e573ba6a4103a9bfa64a123e89db",
        "IPY_MODEL_c51278a2997548879499e6f0735ddf27"
       ],
       "layout": "IPY_MODEL_0d60d9c0bf034bba9c9e5e0bb70d8a06"
      }
     },
     "517ef28c4a344152b85f659ff83dcd7b": {
      "model_module": "@jupyter-widgets/base",
      "model_module_version": "1.2.0",
      "model_name": "LayoutModel",
      "state": {
       "margin": "0px 0px 10px 0px"
      }
     },
     "60fffc10db9d47f2b2db48cea6820eb1": {
      "model_module": "@jupyter-widgets/controls",
      "model_module_version": "1.5.0",
      "model_name": "GridBoxModel",
      "state": {
       "children": [
        "IPY_MODEL_190ff14048c749228157ccb000289824"
       ],
       "layout": "IPY_MODEL_68ada96f84a64cd4917857878b053256"
      }
     },
     "6803c04af7144f8b86a1a50878d96674": {
      "model_module": "@jupyter-widgets/controls",
      "model_module_version": "1.5.0",
      "model_name": "HTMLModel",
      "state": {
       "layout": "IPY_MODEL_517ef28c4a344152b85f659ff83dcd7b",
       "style": "IPY_MODEL_ae0a45f43abd4e189d5efb387194258d",
       "value": "<p style='font-family: IBM Plex Sans, Arial, Helvetica, sans-serif; font-size: 20px; font-weight: medium;'>Circuit Properties</p>"
      }
     },
     "68ada96f84a64cd4917857878b053256": {
      "model_module": "@jupyter-widgets/base",
      "model_module_version": "1.2.0",
      "model_name": "LayoutModel",
      "state": {
       "grid_template_areas": "\n                                       \". . . . right \"\n                                        ",
       "grid_template_columns": "20% 20% 20% 20% 20%",
       "width": "100%"
      }
     },
     "6e0b3047a1e040c5986a923b4dba2469": {
      "model_module": "@jupyter-widgets/controls",
      "model_module_version": "1.5.0",
      "model_name": "HTMLModel",
      "state": {
       "layout": "IPY_MODEL_c27005ebc0094f7bad3481edb287f0e1",
       "style": "IPY_MODEL_e1e03a0857df4ab1b5eeb045020d4ad3",
       "value": "<h5>Status</h5>"
      }
     },
     "7721e573ba6a4103a9bfa64a123e89db": {
      "model_module": "@jupyter-widgets/controls",
      "model_module_version": "1.5.0",
      "model_name": "HTMLModel",
      "state": {
       "layout": "IPY_MODEL_acde51225c8f4c888dc1e9e235ddbc03",
       "style": "IPY_MODEL_7adaaaed3dfb47b598a63404e38615ef",
       "value": "<h5>Queue</h5>"
      }
     },
     "7adaaaed3dfb47b598a63404e38615ef": {
      "model_module": "@jupyter-widgets/controls",
      "model_module_version": "1.5.0",
      "model_name": "DescriptionStyleModel",
      "state": {
       "description_width": ""
      }
     },
     "7c8eeb56fd634da5b301326704aec792": {
      "model_module": "@jupyter-widgets/controls",
      "model_module_version": "1.5.0",
      "model_name": "DescriptionStyleModel",
      "state": {
       "description_width": ""
      }
     },
     "85c98370ac4640708452547ca9ad0069": {
      "model_module": "@jupyter-widgets/base",
      "model_module_version": "1.2.0",
      "model_name": "LayoutModel",
      "state": {
       "width": "145px"
      }
     },
     "861793ba67764279b408fbf9145b69c8": {
      "model_module": "@jupyter-widgets/base",
      "model_module_version": "1.2.0",
      "model_name": "LayoutModel",
      "state": {}
     },
     "911b91b292654a6fa8a968387b13bb0f": {
      "model_module": "@jupyter-widgets/controls",
      "model_module_version": "1.5.0",
      "model_name": "HTMLModel",
      "state": {
       "layout": "IPY_MODEL_85c98370ac4640708452547ca9ad0069",
       "style": "IPY_MODEL_7c8eeb56fd634da5b301326704aec792",
       "value": "<h5>Backend</h5>"
      }
     },
     "acde51225c8f4c888dc1e9e235ddbc03": {
      "model_module": "@jupyter-widgets/base",
      "model_module_version": "1.2.0",
      "model_name": "LayoutModel",
      "state": {
       "width": "70px"
      }
     },
     "ae0a45f43abd4e189d5efb387194258d": {
      "model_module": "@jupyter-widgets/controls",
      "model_module_version": "1.5.0",
      "model_name": "DescriptionStyleModel",
      "state": {
       "description_width": ""
      }
     },
     "b653faae4f9b4f0c8ffa0fc770235494": {
      "model_module": "@jupyter-widgets/controls",
      "model_module_version": "1.5.0",
      "model_name": "ButtonStyleModel",
      "state": {}
     },
     "bb2720e8a01b444693f3c9fc1532e65c": {
      "model_module": "@jupyter-widgets/base",
      "model_module_version": "1.2.0",
      "model_name": "LayoutModel",
      "state": {
       "width": "190px"
      }
     },
     "c122d7dbe37344c49d08dacadf6e5a83": {
      "model_module": "@jupyter-widgets/controls",
      "model_module_version": "1.5.0",
      "model_name": "DescriptionStyleModel",
      "state": {
       "description_width": ""
      }
     },
     "c27005ebc0094f7bad3481edb287f0e1": {
      "model_module": "@jupyter-widgets/base",
      "model_module_version": "1.2.0",
      "model_name": "LayoutModel",
      "state": {
       "width": "95px"
      }
     },
     "c51278a2997548879499e6f0735ddf27": {
      "model_module": "@jupyter-widgets/controls",
      "model_module_version": "1.5.0",
      "model_name": "HTMLModel",
      "state": {
       "layout": "IPY_MODEL_861793ba67764279b408fbf9145b69c8",
       "style": "IPY_MODEL_eb1fa7aa286b4ce680ed2ca848700d63",
       "value": "<h5>Message</h5>"
      }
     },
     "ddec49bdd9e04993a2f15c1415c4fb33": {
      "model_module": "@jupyter-widgets/controls",
      "model_module_version": "1.5.0",
      "model_name": "HTMLModel",
      "state": {
       "layout": "IPY_MODEL_bb2720e8a01b444693f3c9fc1532e65c",
       "style": "IPY_MODEL_c122d7dbe37344c49d08dacadf6e5a83",
       "value": "<h5>Job ID</h5>"
      }
     },
     "e1e03a0857df4ab1b5eeb045020d4ad3": {
      "model_module": "@jupyter-widgets/controls",
      "model_module_version": "1.5.0",
      "model_name": "DescriptionStyleModel",
      "state": {
       "description_width": ""
      }
     },
     "eb1fa7aa286b4ce680ed2ca848700d63": {
      "model_module": "@jupyter-widgets/controls",
      "model_module_version": "1.5.0",
      "model_name": "DescriptionStyleModel",
      "state": {
       "description_width": ""
      }
     }
    },
    "version_major": 2,
    "version_minor": 0
   }
  }
 },
 "nbformat": 4,
 "nbformat_minor": 5
}
