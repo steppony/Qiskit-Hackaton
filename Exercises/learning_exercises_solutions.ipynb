{
 "cells": [
  {
   "cell_type": "markdown",
   "id": "5e991a29-84b3-4d12-9cdc-d46c7ef21b09",
   "metadata": {},
   "source": [
    "## Solutions: learning exercises"
   ]
  },
  {
   "cell_type": "code",
   "execution_count": 3,
   "id": "61fd2fd7-6a88-49c6-ae7c-8c09c2dce6b8",
   "metadata": {},
   "outputs": [],
   "source": [
    "# Let this box run first, to import all the required packages.\n",
    "\n",
    "import numpy as np\n",
    "# Importing standard Qiskit libraries\n",
    "from qiskit.quantum_info import Statevector\n",
    "from qiskit import QuantumCircuit, transpile, Aer, IBMQ, assemble, execute\n",
    "from qiskit.tools.jupyter import *\n",
    "from qiskit.visualization import *\n",
    "#from ibm_quantum_widgets import *\n",
    "\n",
    "provider = IBMQ.load_account()"
   ]
  },
  {
   "cell_type": "markdown",
   "id": "c77b5016-e180-43fe-89ec-dc78abd7bd1e",
   "metadata": {},
   "source": [
    "## 1. Basic Gates: X- and H-gate\n",
    "\n",
    "In this exercise we will get to know how different qubit gates work. For all the gates you can either use the quantum composer, which is a bit more vivid, but feel free to use the quantum lab, as you can easily understand it!\n",
    "\n",
    "When talking about qubits we are talking about states. To show that we are working with states we will write $|0\\rangle$ and $|1\\rangle$ instead of 0 and 1. Looking at our circuit we are always initializing our qubit in $|0\\rangle$. So when doing nothing to our qubit it looks like this:"
   ]
  },
  {
   "cell_type": "code",
   "execution_count": 4,
   "id": "c8ae8b47-a4f3-49e3-97ca-b0f169f043c8",
   "metadata": {},
   "outputs": [
    {
     "data": {
      "image/png": "[encoded data removed]",
      "text/plain": [
       "<Figure size 504x360 with 1 Axes>"
      ]
     },
     "execution_count": 4,
     "metadata": {},
     "output_type": "execute_result"
    }
   ],
   "source": [
    "# First we are initializing our quantum circuit with one qubit and an additional register to store the outcome\n",
    "# The first number in the brackets gives the number of qubits, the second the number of classical registers\n",
    "qc = QuantumCircuit(1, 1)\n",
    "\n",
    "# The following part is to display your results.\n",
    "# First we are applying a measurement on our circuit by simulating the quantum system\n",
    "qc.measure(0, 0)\n",
    "backend = Aer.get_backend('qasm_simulator') # we choose the simulator as our backend (thats where the computation happens)\n",
    "counts = execute(qc, backend, shots = 10000).result().get_counts() # we run the simulation and get the counts\n",
    "plot_histogram(counts) # here we can see our result, plotted as a histogram"
   ]
  },
  {
   "cell_type": "markdown",
   "id": "4a8b301a-6d88-4e7b-8f11-5588d23e9036",
   "metadata": {},
   "source": [
    "## a) The X-gate\n",
    "To apply our first gate we will get in touch with a gate called X-gate. Using it in the quantum composer just drag the circle with the cross in it on the qubit (first line), labeled as 'q0'. Make sure that you have deleted all other qubits. In the quantum lab one writes:\n",
    "\n",
    "```qc.x(0)```\n",
    "\n",
    "Here, the 0 in the brackets labels the number of the qubit to which the gate is applied, starting from 0. Now its your turn!\n",
    "\n",
    "<b>Apply a X-gate and see what it does!  "
   ]
  },
  {
   "cell_type": "code",
   "execution_count": 5,
   "id": "36fac851-70b1-4d15-b04b-e2ec62bdba3f",
   "metadata": {},
   "outputs": [
    {
     "data": {
      "image/png": "[encoded data removed]",
      "text/plain": [
       "<Figure size 504x360 with 1 Axes>"
      ]
     },
     "execution_count": 5,
     "metadata": {},
     "output_type": "execute_result"
    }
   ],
   "source": [
    "# First we are initializing our quantum circuit with one qubit and an additional register to store the outcome\n",
    "# The first number in the brackets gives the number of qubits, the second the number of classical registers\n",
    "qc = QuantumCircuit(1, 1)\n",
    "\n",
    "# Apply a X-gate to your qubit!\n",
    "# SOLUTION:\n",
    "\n",
    "qc.x(0)\n",
    "\n",
    "# The following part is just to display your results.\n",
    "# First we are applying a measurement on our circuit by simulating the quantum system\n",
    "qc.measure(0, 0)\n",
    "backend = Aer.get_backend('qasm_simulator') # we choose the simulator as our backend\n",
    "counts = execute(qc, backend, shots = 10000).result().get_counts() # we run the simulation and get the counts\n",
    "plot_histogram(counts) # here we can see our result, plotted as a histogram"
   ]
  },
  {
   "cell_type": "markdown",
   "id": "a56597ee-1589-4769-a929-744845b76933",
   "metadata": {},
   "source": [
    "Could you observe any changes? What is the outcome?\n",
    "\n",
    "    The outcome changed from 0 to 1. The probability for this outcome is still 100 %. \n",
    "\n",
    "Now let us try what happens when adding a second X-gate to our qubit! What do you think is going to happen?\n",
    "\n",
    "    We should end up with 0.\n",
    "\n",
    "<b> Build a circuit with two X-gates and compare to the result for one X-Gate!"
   ]
  },
  {
   "cell_type": "code",
   "execution_count": 6,
   "id": "f25bf0c6-3dbb-4b3a-9318-59c9c3cadfd2",
   "metadata": {},
   "outputs": [
    {
     "data": {
      "image/png": "[encoded data removed]",
      "text/plain": [
       "<Figure size 504x360 with 1 Axes>"
      ]
     },
     "execution_count": 6,
     "metadata": {},
     "output_type": "execute_result"
    }
   ],
   "source": [
    "# First we are initializing our quantum circuit with one qubit and an additional register to store the outcome\n",
    "# The first number in the brackets gives the number of qubits, the second the number of classical registers\n",
    "qc = QuantumCircuit(1, 1)\n",
    "\n",
    "# Apply two X-gates to your qubit!\n",
    "# SOLUTION:\n",
    "\n",
    "qc.x(0)\n",
    "qc.x(0)\n",
    "\n",
    "# The following part is just to display your results.\n",
    "# First we are applying a measurement on our circuit by simulating the quantum system\n",
    "qc.measure(0, 0)\n",
    "backend = Aer.get_backend('qasm_simulator') # we choose the simulator as our backend\n",
    "counts = execute(qc, backend, shots = 10000).result().get_counts() # we run the simulation and get the counts\n",
    "plot_histogram(counts) # here we can see our result, plotted as a histogram"
   ]
  },
  {
   "cell_type": "markdown",
   "id": "60442b9b-dc34-4494-ab21-f7d3f6045254",
   "metadata": {},
   "source": [
    "One can see that a X-gate simply flips the outcome to the opposite value. This means also that the state is flipped. To summarize the action of the X-gate we can use a truth table. This means we list all possible inputs and the corresponding outputs under the action of the gate. This is like a manual, describing the action of a gate. For our X-gate we get:\n",
    "\n",
    "   input     |  output    \n",
    "-------------|------------\n",
    " $|0\\rangle$ | $|1\\rangle$ \n",
    " $|1\\rangle$ | $|0\\rangle$ \n",
    "\n"
   ]
  },
  {
   "cell_type": "markdown",
   "id": "fd3bcfd5-a0ec-4c7d-915c-4d6712b00174",
   "metadata": {},
   "source": [
    "## b) The H-gate\n",
    "Next we will learn the H-gate, it is also called Hadamard-gate. This operation is very important for quantum computing. Let us find out what it does! To apply the H-gate in the composer drag and drop the H symbol on your circuit. In the lab you have to use:\n",
    "\n",
    "```qc.h(0)```\n",
    "\n",
    "We are again starting from the $|0\\rangle$ state. \n",
    "\n",
    "<b> Build a circuit with a H-gate that acts on your qubit! What do you observe?\n",
    "\n",
    "The qubit is in a mixture of the states $|0\\rangle$ and $|1\\rangle$. This the essence of quantum computing, it is called superposition. We write this state as $|0\\rangle$ + $|1\\rangle$ or short as $|+\\rangle$."
   ]
  },
  {
   "cell_type": "code",
   "execution_count": 7,
   "id": "a13fd8b6-e220-4684-9b4e-6a48838544f2",
   "metadata": {},
   "outputs": [
    {
     "data": {
      "image/png": "[encoded data removed]",
      "text/plain": [
       "<Figure size 504x360 with 1 Axes>"
      ]
     },
     "execution_count": 7,
     "metadata": {},
     "output_type": "execute_result"
    }
   ],
   "source": [
    "# First we are initializing our quantum circuit with one qubit and an additional register to store the outcome\n",
    "# The first number in the brackets gives the number of qubits, the second the number of classical registers\n",
    "qc = QuantumCircuit(1, 1)\n",
    "\n",
    "# Apply a H-gate to your qubit!\n",
    "# SOLUTION:\n",
    "\n",
    "qc.h(0)\n",
    "\n",
    "# The following part is just to display your results.\n",
    "# First we are applying a measurement on our circuit by simulating the quantum system\n",
    "qc.measure(0, 0)\n",
    "backend = Aer.get_backend('qasm_simulator') # we choose the simulator as our backend\n",
    "counts = execute(qc, backend, shots = 10000).result().get_counts() # we run the simulation and get the counts\n",
    "plot_histogram(counts) # here we can see our result, plotted as a histogram"
   ]
  },
  {
   "cell_type": "markdown",
   "id": "30dbb8f1-54bd-442f-8327-024c7c443165",
   "metadata": {},
   "source": [
    "What happens when introducing a second H-gate after the first one?\n",
    "\n",
    "    We end up in the initial state!\n",
    "\n",
    "<b> Build a circuit with two H-gates acting on our qubit!"
   ]
  },
  {
   "cell_type": "code",
   "execution_count": 8,
   "id": "7ab59f96-0fe6-4ba9-be6a-f9eb4e9247b1",
   "metadata": {},
   "outputs": [
    {
     "data": {
      "image/png": "[encoded data removed]",
      "text/plain": [
       "<Figure size 504x360 with 1 Axes>"
      ]
     },
     "execution_count": 8,
     "metadata": {},
     "output_type": "execute_result"
    }
   ],
   "source": [
    "# First we are initializing our quantum circuit with one qubit and an additional register to store the outcome\n",
    "# The first number in the brackets gives the number of qubits, the second the number of classical registers\n",
    "qc = QuantumCircuit(1, 1)\n",
    "\n",
    "# Apply two H-gates to your qubit!\n",
    "# SOLUTION:\n",
    "\n",
    "qc.h(0)\n",
    "qc.h(0)\n",
    "\n",
    "# The following part is just to display your results.\n",
    "# First we are applying a measurement on our circuit by simulating the quantum system\n",
    "qc.measure(0, 0)\n",
    "backend = Aer.get_backend('qasm_simulator') # we choose the simulator as our backend\n",
    "counts = execute(qc, backend, shots = 10000).result().get_counts() # we run the simulation and get the counts\n",
    "plot_histogram(counts) # here we can see our result, plotted as a histogram"
   ]
  },
  {
   "cell_type": "markdown",
   "id": "c025e358-b272-475e-a1f5-f80b0074189a",
   "metadata": {},
   "source": [
    "Summarizing the action of the H-gate on the $|0\\rangle$ and $|1\\rangle$ state we can state that it creates the superposition state. Acting on the superposition state we come back to the initial states. This is why quantum computing is reversible. The truth table of the Hadamard gate is:\n",
    "\n",
    "| input       | output                                   |\n",
    "|-------------|------------------------------------------|\n",
    "| $|0\\rangle$ | $|0\\rangle$ + $|1\\rangle$  = $|+\\rangle$ |\n",
    "| $|1\\rangle$ | $|0\\rangle$ - $|1\\rangle$  = $|-\\rangle$ |\n"
   ]
  },
  {
   "cell_type": "markdown",
   "id": "d93b09cd-de48-4fbd-86d5-ee3bc1b2be4a",
   "metadata": {},
   "source": [
    "As a last step we want to look how we can transform the code in an easy understandable and nice looking circuit diagram. In Qiskit this is done, using the command:\n",
    "\n",
    "```qc.draw()```\n",
    "\n",
    "<b> Test the command in the following box! "
   ]
  },
  {
   "cell_type": "code",
   "execution_count": 9,
   "id": "967bf67b-8046-4327-8d8e-5f9739ef75c5",
   "metadata": {},
   "outputs": [
    {
     "data": {
      "text/html": [
       "<pre style=\"word-wrap: normal;white-space: pre;background: #fff0;line-height: 1.1;font-family: &quot;Courier New&quot;,Courier,monospace\">     ┌───┐┌───┐┌─┐\n",
       "q_0: ┤ H ├┤ H ├┤M├\n",
       "     └───┘└───┘└╥┘\n",
       "c: 1/═══════════╩═\n",
       "                0 </pre>"
      ],
      "text/plain": [
       "     ┌───┐┌───┐┌─┐\n",
       "q_0: ┤ H ├┤ H ├┤M├\n",
       "     └───┘└───┘└╥┘\n",
       "c: 1/═══════════╩═\n",
       "                0 "
      ]
     },
     "execution_count": 9,
     "metadata": {},
     "output_type": "execute_result"
    }
   ],
   "source": [
    "# Draw the quantum circuit.\n",
    "# SOLUTION:\n",
    "\n",
    "qc.draw()"
   ]
  },
  {
   "cell_type": "markdown",
   "id": "7ed5b941-53b9-4257-9c96-982f07fbd8d5",
   "metadata": {},
   "source": [
    "You should see now the circuit with a quantum register labeled as 'q', a classical register 'c', two H-gates and finally on the right a measurement of the qubit that stores the outcome in the classical register. If so, well done! Then the last task should be very easy for you.\n",
    "\n",
    "<b> Draw a circuit that applies from left to right one X-gate and one H-gate."
   ]
  },
  {
   "cell_type": "code",
   "execution_count": 10,
   "id": "bf7efa7b-9a4c-45fb-9f6a-159fa1587af6",
   "metadata": {},
   "outputs": [
    {
     "data": {
      "text/html": [
       "<pre style=\"word-wrap: normal;white-space: pre;background: #fff0;line-height: 1.1;font-family: &quot;Courier New&quot;,Courier,monospace\">     ┌───┐┌───┐\n",
       "q_0: ┤ X ├┤ H ├\n",
       "     └───┘└───┘\n",
       "c: 1/══════════\n",
       "               </pre>"
      ],
      "text/plain": [
       "     ┌───┐┌───┐\n",
       "q_0: ┤ X ├┤ H ├\n",
       "     └───┘└───┘\n",
       "c: 1/══════════\n",
       "               "
      ]
     },
     "execution_count": 10,
     "metadata": {},
     "output_type": "execute_result"
    }
   ],
   "source": [
    "# Initialize your quantum circuit first with one qubit and one classical bit (hint: take a look above)\n",
    "# SOLUTION\n",
    "\n",
    "qc = QuantumCircuit(1, 1)\n",
    "\n",
    "# Apply the required gates\n",
    "\n",
    "qc.x(0)\n",
    "qc.h(0)\n",
    "\n",
    "# Draw the circuit\n",
    "\n",
    "qc.draw()"
   ]
  },
  {
   "cell_type": "markdown",
   "id": "ca1d291b-b738-4ee0-ab42-9c57055dc8d9",
   "metadata": {},
   "source": [
    "This circuit transforms the $|0\\rangle$ state to the $|0\\rangle - |1\\rangle$ state, which is also called $|-\\rangle$ state."
   ]
  },
  {
   "cell_type": "markdown",
   "id": "0c438f53",
   "metadata": {},
   "source": [
    "## c) The CX-gate\n",
    "Next we will learn the cx-gate, it is also called control-not-gate. This operation is very important for quantum computing. Let us find out what it does! To apply the control-not-gate in the composer drag and drop the symbol with a cross and dot, connected by a line, on your circuit. In the lab you have to use:\n",
    "\n",
    "```qc.cx(control, target)```\n",
    "\n",
    "You need to change \"control\" and \"target\" to be the qubit names (0 or 1) in your code, for example: qc.cx(0,1)\n",
    "\n",
    "We are now starting from the $|0\\rangle$ $|0\\rangle$ state because we have two qubits. \n",
    "\n",
    "<b> Build a circuit with a cx-gate that acts on your qubits! What do you observe?"
   ]
  },
  {
   "cell_type": "code",
   "execution_count": 11,
   "id": "4c4ef656",
   "metadata": {},
   "outputs": [
    {
     "ename": "CircuitError",
     "evalue": "'duplicate qubit arguments'",
     "output_type": "error",
     "traceback": [
      "\u001b[1;31m---------------------------------------------------------------------------\u001b[0m",
      "\u001b[1;31mCircuitError\u001b[0m                              Traceback (most recent call last)",
      "\u001b[1;32m~\\AppData\\Local\\Temp/ipykernel_17992/3674250635.py\u001b[0m in \u001b[0;36m<module>\u001b[1;34m\u001b[0m\n\u001b[0;32m      6\u001b[0m \u001b[1;31m# FILL IN YOUR CODE HERE!\u001b[0m\u001b[1;33m\u001b[0m\u001b[1;33m\u001b[0m\u001b[1;33m\u001b[0m\u001b[0m\n\u001b[0;32m      7\u001b[0m \u001b[1;31m#\u001b[0m\u001b[1;33m\u001b[0m\u001b[1;33m\u001b[0m\u001b[1;33m\u001b[0m\u001b[0m\n\u001b[1;32m----> 8\u001b[1;33m \u001b[0mqc\u001b[0m\u001b[1;33m.\u001b[0m\u001b[0mcx\u001b[0m\u001b[1;33m(\u001b[0m\u001b[1;36m0\u001b[0m\u001b[1;33m,\u001b[0m\u001b[1;36m0\u001b[0m\u001b[1;33m)\u001b[0m\u001b[1;33m\u001b[0m\u001b[1;33m\u001b[0m\u001b[0m\n\u001b[0m\u001b[0;32m      9\u001b[0m \u001b[1;31m#\u001b[0m\u001b[1;33m\u001b[0m\u001b[1;33m\u001b[0m\u001b[1;33m\u001b[0m\u001b[0m\n\u001b[0;32m     10\u001b[0m \u001b[1;33m\u001b[0m\u001b[0m\n",
      "\u001b[1;32m~\\anaconda3\\envs\\MyQuisKitEnv\\lib\\site-packages\\qiskit\\circuit\\quantumcircuit.py\u001b[0m in \u001b[0;36mcx\u001b[1;34m(self, control_qubit, target_qubit, label, ctrl_state)\u001b[0m\n\u001b[0;32m   2729\u001b[0m         \u001b[1;32mfrom\u001b[0m \u001b[1;33m.\u001b[0m\u001b[0mlibrary\u001b[0m\u001b[1;33m.\u001b[0m\u001b[0mstandard_gates\u001b[0m\u001b[1;33m.\u001b[0m\u001b[0mx\u001b[0m \u001b[1;32mimport\u001b[0m \u001b[0mCXGate\u001b[0m\u001b[1;33m\u001b[0m\u001b[1;33m\u001b[0m\u001b[0m\n\u001b[0;32m   2730\u001b[0m \u001b[1;33m\u001b[0m\u001b[0m\n\u001b[1;32m-> 2731\u001b[1;33m         return self.append(\n\u001b[0m\u001b[0;32m   2732\u001b[0m             \u001b[0mCXGate\u001b[0m\u001b[1;33m(\u001b[0m\u001b[0mlabel\u001b[0m\u001b[1;33m=\u001b[0m\u001b[0mlabel\u001b[0m\u001b[1;33m,\u001b[0m \u001b[0mctrl_state\u001b[0m\u001b[1;33m=\u001b[0m\u001b[0mctrl_state\u001b[0m\u001b[1;33m)\u001b[0m\u001b[1;33m,\u001b[0m \u001b[1;33m[\u001b[0m\u001b[0mcontrol_qubit\u001b[0m\u001b[1;33m,\u001b[0m \u001b[0mtarget_qubit\u001b[0m\u001b[1;33m]\u001b[0m\u001b[1;33m,\u001b[0m \u001b[1;33m[\u001b[0m\u001b[1;33m]\u001b[0m\u001b[1;33m\u001b[0m\u001b[1;33m\u001b[0m\u001b[0m\n\u001b[0;32m   2733\u001b[0m         )\n",
      "\u001b[1;32m~\\anaconda3\\envs\\MyQuisKitEnv\\lib\\site-packages\\qiskit\\circuit\\quantumcircuit.py\u001b[0m in \u001b[0;36mappend\u001b[1;34m(self, instruction, qargs, cargs)\u001b[0m\n\u001b[0;32m   1084\u001b[0m         \u001b[0minstructions\u001b[0m \u001b[1;33m=\u001b[0m \u001b[0mInstructionSet\u001b[0m\u001b[1;33m(\u001b[0m\u001b[1;33m)\u001b[0m\u001b[1;33m\u001b[0m\u001b[1;33m\u001b[0m\u001b[0m\n\u001b[0;32m   1085\u001b[0m         \u001b[1;32mfor\u001b[0m \u001b[1;33m(\u001b[0m\u001b[0mqarg\u001b[0m\u001b[1;33m,\u001b[0m \u001b[0mcarg\u001b[0m\u001b[1;33m)\u001b[0m \u001b[1;32min\u001b[0m \u001b[0minstruction\u001b[0m\u001b[1;33m.\u001b[0m\u001b[0mbroadcast_arguments\u001b[0m\u001b[1;33m(\u001b[0m\u001b[0mexpanded_qargs\u001b[0m\u001b[1;33m,\u001b[0m \u001b[0mexpanded_cargs\u001b[0m\u001b[1;33m)\u001b[0m\u001b[1;33m:\u001b[0m\u001b[1;33m\u001b[0m\u001b[1;33m\u001b[0m\u001b[0m\n\u001b[1;32m-> 1086\u001b[1;33m             \u001b[0minstructions\u001b[0m\u001b[1;33m.\u001b[0m\u001b[0madd\u001b[0m\u001b[1;33m(\u001b[0m\u001b[0mself\u001b[0m\u001b[1;33m.\u001b[0m\u001b[0m_append\u001b[0m\u001b[1;33m(\u001b[0m\u001b[0minstruction\u001b[0m\u001b[1;33m,\u001b[0m \u001b[0mqarg\u001b[0m\u001b[1;33m,\u001b[0m \u001b[0mcarg\u001b[0m\u001b[1;33m)\u001b[0m\u001b[1;33m,\u001b[0m \u001b[0mqarg\u001b[0m\u001b[1;33m,\u001b[0m \u001b[0mcarg\u001b[0m\u001b[1;33m)\u001b[0m\u001b[1;33m\u001b[0m\u001b[1;33m\u001b[0m\u001b[0m\n\u001b[0m\u001b[0;32m   1087\u001b[0m         \u001b[1;32mreturn\u001b[0m \u001b[0minstructions\u001b[0m\u001b[1;33m\u001b[0m\u001b[1;33m\u001b[0m\u001b[0m\n\u001b[0;32m   1088\u001b[0m \u001b[1;33m\u001b[0m\u001b[0m\n",
      "\u001b[1;32m~\\anaconda3\\envs\\MyQuisKitEnv\\lib\\site-packages\\qiskit\\circuit\\quantumcircuit.py\u001b[0m in \u001b[0;36m_append\u001b[1;34m(self, instruction, qargs, cargs)\u001b[0m\n\u001b[0;32m   1107\u001b[0m \u001b[1;33m\u001b[0m\u001b[0m\n\u001b[0;32m   1108\u001b[0m         \u001b[1;31m# do some compatibility checks\u001b[0m\u001b[1;33m\u001b[0m\u001b[1;33m\u001b[0m\u001b[1;33m\u001b[0m\u001b[0m\n\u001b[1;32m-> 1109\u001b[1;33m         \u001b[0mself\u001b[0m\u001b[1;33m.\u001b[0m\u001b[0m_check_dups\u001b[0m\u001b[1;33m(\u001b[0m\u001b[0mqargs\u001b[0m\u001b[1;33m)\u001b[0m\u001b[1;33m\u001b[0m\u001b[1;33m\u001b[0m\u001b[0m\n\u001b[0m\u001b[0;32m   1110\u001b[0m         \u001b[0mself\u001b[0m\u001b[1;33m.\u001b[0m\u001b[0m_check_qargs\u001b[0m\u001b[1;33m(\u001b[0m\u001b[0mqargs\u001b[0m\u001b[1;33m)\u001b[0m\u001b[1;33m\u001b[0m\u001b[1;33m\u001b[0m\u001b[0m\n\u001b[0;32m   1111\u001b[0m         \u001b[0mself\u001b[0m\u001b[1;33m.\u001b[0m\u001b[0m_check_cargs\u001b[0m\u001b[1;33m(\u001b[0m\u001b[0mcargs\u001b[0m\u001b[1;33m)\u001b[0m\u001b[1;33m\u001b[0m\u001b[1;33m\u001b[0m\u001b[0m\n",
      "\u001b[1;32m~\\anaconda3\\envs\\MyQuisKitEnv\\lib\\site-packages\\qiskit\\circuit\\quantumcircuit.py\u001b[0m in \u001b[0;36m_check_dups\u001b[1;34m(self, qubits)\u001b[0m\n\u001b[0;32m   1225\u001b[0m         \u001b[0msqubits\u001b[0m \u001b[1;33m=\u001b[0m \u001b[0mset\u001b[0m\u001b[1;33m(\u001b[0m\u001b[0mqubits\u001b[0m\u001b[1;33m)\u001b[0m\u001b[1;33m\u001b[0m\u001b[1;33m\u001b[0m\u001b[0m\n\u001b[0;32m   1226\u001b[0m         \u001b[1;32mif\u001b[0m \u001b[0mlen\u001b[0m\u001b[1;33m(\u001b[0m\u001b[0msqubits\u001b[0m\u001b[1;33m)\u001b[0m \u001b[1;33m!=\u001b[0m \u001b[0mlen\u001b[0m\u001b[1;33m(\u001b[0m\u001b[0mqubits\u001b[0m\u001b[1;33m)\u001b[0m\u001b[1;33m:\u001b[0m\u001b[1;33m\u001b[0m\u001b[1;33m\u001b[0m\u001b[0m\n\u001b[1;32m-> 1227\u001b[1;33m             \u001b[1;32mraise\u001b[0m \u001b[0mCircuitError\u001b[0m\u001b[1;33m(\u001b[0m\u001b[1;34m\"duplicate qubit arguments\"\u001b[0m\u001b[1;33m)\u001b[0m\u001b[1;33m\u001b[0m\u001b[1;33m\u001b[0m\u001b[0m\n\u001b[0m\u001b[0;32m   1228\u001b[0m \u001b[1;33m\u001b[0m\u001b[0m\n\u001b[0;32m   1229\u001b[0m     \u001b[1;32mdef\u001b[0m \u001b[0m_check_qargs\u001b[0m\u001b[1;33m(\u001b[0m\u001b[0mself\u001b[0m\u001b[1;33m,\u001b[0m \u001b[0mqargs\u001b[0m\u001b[1;33m)\u001b[0m\u001b[1;33m:\u001b[0m\u001b[1;33m\u001b[0m\u001b[1;33m\u001b[0m\u001b[0m\n",
      "\u001b[1;31mCircuitError\u001b[0m: 'duplicate qubit arguments'"
     ]
    }
   ],
   "source": [
    "# First we are initializing our quantum circuit with two qubits and an additional register to store the outcome\n",
    "# The first number in the brackets gives the number of qubits, the second the number of classical registers\n",
    "qc = QuantumCircuit(2, 2)\n",
    "\n",
    "# Apply a cx-gate to your qubits!\n",
    "# FILL IN YOUR CODE HERE!\n",
    "#\n",
    "qc.cx(0,1)\n",
    "#\n",
    "\n",
    "# The following part is just to display your results.\n",
    "# First we are applying a measurement on our circuit by simulating the quantum system\n",
    "qc.measure(0, 0)\n",
    "qc.measure(1, 1)\n",
    "backend = Aer.get_backend('qasm_simulator') # we choose the simulator as our backend\n",
    "counts = execute(qc, backend, shots = 10000).result().get_counts() # we run the simulation and get the counts\n",
    "plot_histogram(counts) # here we can see our result, plotted as a histogram"
   ]
  },
  {
   "cell_type": "code",
   "execution_count": null,
   "id": "2ad657c8",
   "metadata": {},
   "outputs": [],
   "source": []
  }
 ],
 "metadata": {
  "kernelspec": {
   "display_name": "Qiskit v0.35.0 (ipykernel)",
   "language": "python",
   "name": "python3"
  },
  "language_info": {
   "codemirror_mode": {
    "name": "ipython",
    "version": 3
   },
   "file_extension": ".py",
   "mimetype": "text/x-python",
   "name": "python",
   "nbconvert_exporter": "python",
   "pygments_lexer": "ipython3",
   "version": "3.8.8"
  },
  "widgets": {
   "application/vnd.jupyter.widget-state+json": {
    "state": {
     "14f21ec1329e4c17a91539ca725a56e3": {
      "model_module": "@jupyter-widgets/controls",
      "model_module_version": "1.5.0",
      "model_name": "ButtonModel",
      "state": {
       "button_style": "primary",
       "description": "Clear",
       "layout": "IPY_MODEL_ce19392c8b6c40c591d03c964aa611f6",
       "style": "IPY_MODEL_d7eb945cd1474270923e3364e09d37e5"
      }
     },
     "199df6ff295a43e0933338de991a2098": {
      "model_module": "@jupyter-widgets/controls",
      "model_module_version": "1.5.0",
      "model_name": "HTMLModel",
      "state": {
       "layout": "IPY_MODEL_568ad5c648fd480d9765fd9ef6446fe6",
       "style": "IPY_MODEL_bf538f486a674ffa85dfb6cd6fb7b969",
       "value": "<h5>Job ID</h5>"
      }
     },
     "1f028e5ebb994134839a654988c44391": {
      "model_module": "@jupyter-widgets/controls",
      "model_module_version": "1.5.0",
      "model_name": "GridBoxModel",
      "state": {
       "children": [
        "IPY_MODEL_14f21ec1329e4c17a91539ca725a56e3"
       ],
       "layout": "IPY_MODEL_6c5f0d44f06d4b9091318ce4221ade8f"
      }
     },
     "26b5082a79a94e0d80aa9522eb201a92": {
      "model_module": "@jupyter-widgets/base",
      "model_module_version": "1.2.0",
      "model_name": "LayoutModel",
      "state": {}
     },
     "2bb665f9b3a44441af6bab6bef5caa25": {
      "model_module": "@jupyter-widgets/base",
      "model_module_version": "1.2.0",
      "model_name": "LayoutModel",
      "state": {
       "width": "70px"
      }
     },
     "30090b8f9039412c81188080a5fc4823": {
      "model_module": "@jupyter-widgets/controls",
      "model_module_version": "1.5.0",
      "model_name": "DescriptionStyleModel",
      "state": {
       "description_width": ""
      }
     },
     "317eb1d634d14bce8f816e9bd98a7c22": {
      "model_module": "@jupyter-widgets/base",
      "model_module_version": "1.2.0",
      "model_name": "LayoutModel",
      "state": {
       "margin": "0px 0px 0px 37px",
       "width": "600px"
      }
     },
     "32bcd7c4dc824ba68989f7de6cd20631": {
      "model_module": "@jupyter-widgets/controls",
      "model_module_version": "1.5.0",
      "model_name": "HTMLModel",
      "state": {
       "layout": "IPY_MODEL_b8d6a362a6094f03a51a56fdc2d5f471",
       "style": "IPY_MODEL_da2b497c7bd14457b41f40407b2710c9",
       "value": "<h5>Backend</h5>"
      }
     },
     "4a331eb06843413da3404ac661aa20a0": {
      "model_module": "@jupyter-widgets/controls",
      "model_module_version": "1.5.0",
      "model_name": "HTMLModel",
      "state": {
       "layout": "IPY_MODEL_6d85f99a1a564dbfab4bbbdccbd9c15f",
       "style": "IPY_MODEL_4ec13c6c8d414385b7617ed7bf908715",
       "value": "<p style='font-family: IBM Plex Sans, Arial, Helvetica, sans-serif; font-size: 20px; font-weight: medium;'>Circuit Properties</p>"
      }
     },
     "4ec13c6c8d414385b7617ed7bf908715": {
      "model_module": "@jupyter-widgets/controls",
      "model_module_version": "1.5.0",
      "model_name": "DescriptionStyleModel",
      "state": {
       "description_width": ""
      }
     },
     "568ad5c648fd480d9765fd9ef6446fe6": {
      "model_module": "@jupyter-widgets/base",
      "model_module_version": "1.2.0",
      "model_name": "LayoutModel",
      "state": {
       "width": "190px"
      }
     },
     "5af518f71a6e4b6bb27c33e1f9c144f9": {
      "model_module": "@jupyter-widgets/controls",
      "model_module_version": "1.5.0",
      "model_name": "HTMLModel",
      "state": {
       "layout": "IPY_MODEL_2bb665f9b3a44441af6bab6bef5caa25",
       "style": "IPY_MODEL_30090b8f9039412c81188080a5fc4823",
       "value": "<h5>Queue</h5>"
      }
     },
     "622c53f732dd41e5b6e147fca1a7403b": {
      "model_module": "@jupyter-widgets/base",
      "model_module_version": "1.2.0",
      "model_name": "LayoutModel",
      "state": {
       "width": "95px"
      }
     },
     "623640d50c57425eb0ab797f290d2b85": {
      "model_module": "@jupyter-widgets/controls",
      "model_module_version": "1.5.0",
      "model_name": "HBoxModel",
      "state": {
       "children": [
        "IPY_MODEL_199df6ff295a43e0933338de991a2098",
        "IPY_MODEL_32bcd7c4dc824ba68989f7de6cd20631",
        "IPY_MODEL_88b3f0f1c1134c688db701ad872480dd",
        "IPY_MODEL_5af518f71a6e4b6bb27c33e1f9c144f9",
        "IPY_MODEL_88e1c59dfab641008316ba8a99640b29"
       ],
       "layout": "IPY_MODEL_317eb1d634d14bce8f816e9bd98a7c22"
      }
     },
     "6c5f0d44f06d4b9091318ce4221ade8f": {
      "model_module": "@jupyter-widgets/base",
      "model_module_version": "1.2.0",
      "model_name": "LayoutModel",
      "state": {
       "grid_template_areas": "\n                                       \". . . . right \"\n                                        ",
       "grid_template_columns": "20% 20% 20% 20% 20%",
       "width": "100%"
      }
     },
     "6d85f99a1a564dbfab4bbbdccbd9c15f": {
      "model_module": "@jupyter-widgets/base",
      "model_module_version": "1.2.0",
      "model_name": "LayoutModel",
      "state": {
       "margin": "0px 0px 10px 0px"
      }
     },
     "784737edce7b474cac810576883a8a9b": {
      "model_module": "@jupyter-widgets/controls",
      "model_module_version": "1.5.0",
      "model_name": "DescriptionStyleModel",
      "state": {
       "description_width": ""
      }
     },
     "88b3f0f1c1134c688db701ad872480dd": {
      "model_module": "@jupyter-widgets/controls",
      "model_module_version": "1.5.0",
      "model_name": "HTMLModel",
      "state": {
       "layout": "IPY_MODEL_622c53f732dd41e5b6e147fca1a7403b",
       "style": "IPY_MODEL_784737edce7b474cac810576883a8a9b",
       "value": "<h5>Status</h5>"
      }
     },
     "88e1c59dfab641008316ba8a99640b29": {
      "model_module": "@jupyter-widgets/controls",
      "model_module_version": "1.5.0",
      "model_name": "HTMLModel",
      "state": {
       "layout": "IPY_MODEL_26b5082a79a94e0d80aa9522eb201a92",
       "style": "IPY_MODEL_9202dff164c84004ba8e9806f8097b6d",
       "value": "<h5>Message</h5>"
      }
     },
     "9202dff164c84004ba8e9806f8097b6d": {
      "model_module": "@jupyter-widgets/controls",
      "model_module_version": "1.5.0",
      "model_name": "DescriptionStyleModel",
      "state": {
       "description_width": ""
      }
     },
     "b8d6a362a6094f03a51a56fdc2d5f471": {
      "model_module": "@jupyter-widgets/base",
      "model_module_version": "1.2.0",
      "model_name": "LayoutModel",
      "state": {
       "width": "145px"
      }
     },
     "bf538f486a674ffa85dfb6cd6fb7b969": {
      "model_module": "@jupyter-widgets/controls",
      "model_module_version": "1.5.0",
      "model_name": "DescriptionStyleModel",
      "state": {
       "description_width": ""
      }
     },
     "ce19392c8b6c40c591d03c964aa611f6": {
      "model_module": "@jupyter-widgets/base",
      "model_module_version": "1.2.0",
      "model_name": "LayoutModel",
      "state": {
       "grid_area": "right",
       "padding": "0px 0px 0px 0px",
       "width": "70px"
      }
     },
     "d7eb945cd1474270923e3364e09d37e5": {
      "model_module": "@jupyter-widgets/controls",
      "model_module_version": "1.5.0",
      "model_name": "ButtonStyleModel",
      "state": {}
     },
     "da2b497c7bd14457b41f40407b2710c9": {
      "model_module": "@jupyter-widgets/controls",
      "model_module_version": "1.5.0",
      "model_name": "DescriptionStyleModel",
      "state": {
       "description_width": ""
      }
     }
    },
    "version_major": 2,
    "version_minor": 0
   }
  }
 },
 "nbformat": 4,
 "nbformat_minor": 5
}
